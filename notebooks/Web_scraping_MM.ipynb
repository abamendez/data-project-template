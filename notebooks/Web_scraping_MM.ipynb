{
 "cells": [
  {
   "cell_type": "code",
   "execution_count": 8,
   "metadata": {},
   "outputs": [],
   "source": [
    "import os\n",
    "import time\n",
    "import re\n",
    "import pandas as pd\n",
    "import urllib.request\n",
    "from itertools import chain\n",
    "from bs4 import BeautifulSoup\n",
    "from selenium import webdriver\n",
    "from selenium.webdriver.common.keys import Keys\n",
    "from selenium.webdriver.common.action_chains import ActionChains\n",
    "from selenium.webdriver.common.by import By\n",
    "from selenium.webdriver.common.by import By\n",
    "from selenium.webdriver.common.keys import Keys\n",
    "from selenium.webdriver.support.ui import WebDriverWait\n",
    "from selenium.webdriver.support import expected_conditions as EC\n",
    "from selenium.webdriver.firefox.firefox_binary import FirefoxBinary\n",
    "from selenium.webdriver.common.desired_capabilities import DesiredCapabilities\n",
    "from selenium.webdriver.firefox.firefox_binary import FirefoxBinary\n",
    "from selenium.common.exceptions import NoSuchElementException"
   ]
  },
  {
   "cell_type": "code",
   "execution_count": 9,
   "metadata": {},
   "outputs": [],
   "source": [
    "\n",
    "os.environ['PATH'] = f'{os.environ[\"PATH\"]}:{os.getcwd()}/drivers'\n",
    "ean_list= ['8710103880547']\n"
   ]
  },
  {
   "cell_type": "code",
   "execution_count": 10,
   "metadata": {},
   "outputs": [],
   "source": [
    "def initialize_mm_info_df():\n",
    "    \n",
    "    mm_info = pd.DataFrame(columns = ['item_name.value', \n",
    "                                                          'list_price.value_with_tax', \n",
    "                                                          'main_image','features','more_features'\n",
    "                                                         ])\n",
    "    return mm_info\n"
   ]
  },
  {
   "cell_type": "code",
   "execution_count": 11,
   "metadata": {},
   "outputs": [],
   "source": [
    "def mm(ean_list):\n",
    "    \n",
    "    mm_info = initialize_mm_info_df()\n",
    "    \n",
    "  \n",
    "    browser = webdriver.Firefox()\n",
    "    browser.get('https://www.mediamarkt.es/')\n",
    "\n",
    "    time.sleep(7)\n",
    "    \n",
    "    \n",
    "\n",
    "    try: \n",
    "\n",
    "        action = ActionChains(browser)\n",
    "        click_close = browser.find_element_by_xpath(\"(//div[@class='dy-lb-close'])\")\n",
    "        action.move_to_element((click_close)).click().perform()\n",
    "   \n",
    "    except NoSuchElementException:\n",
    "        \n",
    "        \n",
    "        print('No covid-19 info')\n",
    "    \n",
    "\n",
    "        time.sleep(3)\n",
    "    \n",
    "    for ean in ean_list:\n",
    "        \n",
    "        \n",
    "        title = price = main_image = features = more_features = float('nan')\n",
    "\n",
    "\n",
    "        search = browser.find_element_by_xpath('//input[@class=\"ms-textfield ms-textfield--search ms-autosugestions__search-input\"]')\n",
    "        search.clear()\n",
    "        search.send_keys(ean)\n",
    "        search.send_keys(Keys.ENTER)\n",
    "\n",
    "        time.sleep(3)\n",
    "        \n",
    "        try: \n",
    "            \n",
    "\n",
    "                title = browser.find_elements_by_xpath('//h1[@itemprop=\"name\"]')[0].text\n",
    "                \n",
    "                \n",
    "        except NoSuchElementException:\n",
    "            \n",
    "            print(f\"title {ean} not found\")\n",
    "            \n",
    "        except IndexError:\n",
    "            \n",
    "            print(f\"title {ean} not found\")\n",
    "            \n",
    "        \n",
    "        try:\n",
    "            \n",
    "                price = browser.find_elements_by_xpath('//div[@class=\"price-sidebar\"]')[0].text\n",
    "\n",
    "\n",
    "        except NoSuchElementException:\n",
    "            \n",
    "            print(f\"price {ean} not found\")\n",
    "        \n",
    "        \n",
    "        except IndexError:\n",
    "            \n",
    "            print(f\"price {ean} not found\")\n",
    "            \n",
    "        \n",
    "        mm_info.loc[ean] = [title, price, main_image, features, more_features]\n",
    "\n",
    "    \n",
    "    browser.close()\n",
    "    \n",
    "    return mm_info\n",
    "\n",
    "    \n",
    "   "
   ]
  },
  {
   "cell_type": "code",
   "execution_count": 12,
   "metadata": {},
   "outputs": [
    {
     "ename": "NameError",
     "evalue": "name 'price' is not defined",
     "output_type": "error",
     "traceback": [
      "\u001b[0;31m---------------------------------------------------------------------------\u001b[0m",
      "\u001b[0;31mNameError\u001b[0m                                 Traceback (most recent call last)",
      "\u001b[0;32m<ipython-input-12-e1f5f6a28fd6>\u001b[0m in \u001b[0;36m<module>\u001b[0;34m\u001b[0m\n\u001b[0;32m----> 1\u001b[0;31m \u001b[0mprice_list\u001b[0m\u001b[0;34m=\u001b[0m\u001b[0mprice\u001b[0m\u001b[0;34m.\u001b[0m\u001b[0msplit\u001b[0m\u001b[0;34m(\u001b[0m\u001b[0;34m\"\\n\"\u001b[0m\u001b[0;34m)\u001b[0m\u001b[0;34m\u001b[0m\u001b[0;34m\u001b[0m\u001b[0m\n\u001b[0m",
      "\u001b[0;31mNameError\u001b[0m: name 'price' is not defined"
     ]
    }
   ],
   "source": [
    "price_list=price.split(\"\\n\")"
   ]
  },
  {
   "cell_type": "code",
   "execution_count": 13,
   "metadata": {},
   "outputs": [
    {
     "ename": "NameError",
     "evalue": "name 'price_list' is not defined",
     "output_type": "error",
     "traceback": [
      "\u001b[0;31m---------------------------------------------------------------------------\u001b[0m",
      "\u001b[0;31mNameError\u001b[0m                                 Traceback (most recent call last)",
      "\u001b[0;32m<ipython-input-13-8c800825bae0>\u001b[0m in \u001b[0;36m<module>\u001b[0;34m\u001b[0m\n\u001b[0;32m----> 1\u001b[0;31m \u001b[0mprice_list\u001b[0m\u001b[0;34m\u001b[0m\u001b[0;34m\u001b[0m\u001b[0m\n\u001b[0m",
      "\u001b[0;31mNameError\u001b[0m: name 'price_list' is not defined"
     ]
    }
   ],
   "source": [
    "price_list"
   ]
  },
  {
   "cell_type": "code",
   "execution_count": 14,
   "metadata": {},
   "outputs": [
    {
     "name": "stdout",
     "output_type": "stream",
     "text": [
      "No covid-19 info\n",
      "title 8710103880547 not found\n",
      "price 8710103880547 not found\n"
     ]
    }
   ],
   "source": [
    "df=mm(ean_list)"
   ]
  },
  {
   "cell_type": "code",
   "execution_count": 15,
   "metadata": {},
   "outputs": [
    {
     "data": {
      "text/html": [
       "<div>\n",
       "<style scoped>\n",
       "    .dataframe tbody tr th:only-of-type {\n",
       "        vertical-align: middle;\n",
       "    }\n",
       "\n",
       "    .dataframe tbody tr th {\n",
       "        vertical-align: top;\n",
       "    }\n",
       "\n",
       "    .dataframe thead th {\n",
       "        text-align: right;\n",
       "    }\n",
       "</style>\n",
       "<table border=\"1\" class=\"dataframe\">\n",
       "  <thead>\n",
       "    <tr style=\"text-align: right;\">\n",
       "      <th></th>\n",
       "      <th>item_name.value</th>\n",
       "      <th>list_price.value_with_tax</th>\n",
       "      <th>main_image</th>\n",
       "      <th>features</th>\n",
       "      <th>more_features</th>\n",
       "    </tr>\n",
       "  </thead>\n",
       "  <tbody>\n",
       "    <tr>\n",
       "      <th>8710103880547</th>\n",
       "      <td>NaN</td>\n",
       "      <td>NaN</td>\n",
       "      <td>NaN</td>\n",
       "      <td>NaN</td>\n",
       "      <td>NaN</td>\n",
       "    </tr>\n",
       "  </tbody>\n",
       "</table>\n",
       "</div>"
      ],
      "text/plain": [
       "              item_name.value list_price.value_with_tax main_image features  \\\n",
       "8710103880547             NaN                       NaN        NaN      NaN   \n",
       "\n",
       "              more_features  \n",
       "8710103880547           NaN  "
      ]
     },
     "execution_count": 15,
     "metadata": {},
     "output_type": "execute_result"
    }
   ],
   "source": [
    "df"
   ]
  },
  {
   "cell_type": "code",
   "execution_count": null,
   "metadata": {},
   "outputs": [],
   "source": []
  }
 ],
 "metadata": {
  "kernelspec": {
   "display_name": "Python [conda env:data_env]",
   "language": "python",
   "name": "conda-env-data_env-py"
  },
  "language_info": {
   "codemirror_mode": {
    "name": "ipython",
    "version": 3
   },
   "file_extension": ".py",
   "mimetype": "text/x-python",
   "name": "python",
   "nbconvert_exporter": "python",
   "pygments_lexer": "ipython3",
   "version": "3.7.5"
  }
 },
 "nbformat": 4,
 "nbformat_minor": 2
}
