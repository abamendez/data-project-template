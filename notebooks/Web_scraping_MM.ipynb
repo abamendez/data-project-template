{
 "cells": [
  {
   "cell_type": "code",
   "execution_count": 8,
   "metadata": {},
   "outputs": [],
   "source": [
    "import os\n",
    "import time\n",
    "import re\n",
    "import pandas as pd\n",
    "import urllib.request\n",
    "from itertools import chain\n",
    "from bs4 import BeautifulSoup\n",
    "from selenium import webdriver\n",
    "from selenium.webdriver.common.keys import Keys\n",
    "from selenium.webdriver.common.action_chains import ActionChains\n",
    "from selenium.webdriver.common.by import By\n",
    "from selenium.webdriver.common.by import By\n",
    "from selenium.webdriver.common.keys import Keys\n",
    "from selenium.webdriver.support.ui import WebDriverWait\n",
    "from selenium.webdriver.support import expected_conditions as EC\n",
    "from selenium.webdriver.firefox.firefox_binary import FirefoxBinary\n",
    "from selenium.webdriver.common.desired_capabilities import DesiredCapabilities\n",
    "from selenium.webdriver.firefox.firefox_binary import FirefoxBinary\n",
    "from selenium.common.exceptions import NoSuchElementException"
   ]
  },
  {
   "cell_type": "code",
   "execution_count": 22,
   "metadata": {},
   "outputs": [],
   "source": [
    "\n",
    "os.environ['PATH'] = f'{os.environ[\"PATH\"]}:{os.getcwd()}/drivers'\n",
    "ean_list= ['1447683']\n"
   ]
  },
  {
   "cell_type": "code",
   "execution_count": 23,
   "metadata": {},
   "outputs": [],
   "source": [
    "def scroll_shim(passed_in_driver, object):\n",
    "    x = object.location['x']\n",
    "    y = object.location['y']\n",
    "    scroll_by_coord = 'window.scrollTo(%s,%s);' % ( x, y)\n",
    "    scroll_nav_out_of_way = 'window.scrollBy(0, -73);'\n",
    "    passed_in_driver.execute_script(scroll_by_coord)\n",
    "    passed_in_driver.execute_script(scroll_nav_out_of_way)\n",
    "\n",
    "\n",
    "def initialize_mm_info_df():\n",
    "    \n",
    "    mm_info = pd.DataFrame(columns = ['item_name.value', \n",
    "                                                          'list_price.value_with_tax', \n",
    "                                                          'main_image','description','more_features'\n",
    "                                                         ])\n",
    "    return mm_info\n"
   ]
  },
  {
   "cell_type": "code",
   "execution_count": 32,
   "metadata": {},
   "outputs": [],
   "source": [
    "def mm(ean_list):\n",
    "    \n",
    "    mm_info = initialize_mm_info_df()\n",
    "    \n",
    "  \n",
    "    browser = webdriver.Firefox()\n",
    "    browser.get('https://www.mediamarkt.es/')\n",
    "\n",
    "    time.sleep(7)\n",
    "    \n",
    "    \n",
    "\n",
    "    try: \n",
    "\n",
    "        action = ActionChains(browser)\n",
    "        click_close = browser.find_element_by_xpath(\"(//div[@class='dy-lb-close'])\")\n",
    "        action.move_to_element((click_close)).click().perform()\n",
    "   \n",
    "    except NoSuchElementException:\n",
    "        \n",
    "        \n",
    "        print('No covid-19 info')\n",
    "    \n",
    "\n",
    "        time.sleep(3)\n",
    "    \n",
    "    for ean in ean_list:\n",
    "        \n",
    "        \n",
    "        title = price = main_image = descrption = more_features = float('nan')\n",
    "\n",
    "\n",
    "        search = browser.find_element_by_xpath('//input[@class=\"ms-textfield ms-textfield--search ms-autosugestions__search-input\"]')\n",
    "        search.clear()\n",
    "        search.send_keys(ean)\n",
    "        search.send_keys(Keys.ENTER)\n",
    "\n",
    "        time.sleep(3)\n",
    "        \n",
    "        try: \n",
    "            \n",
    "\n",
    "            title = browser.find_elements_by_xpath('//h1[@itemprop=\"name\"]')[0].text\n",
    "                \n",
    "                \n",
    "        except NoSuchElementException:\n",
    "            \n",
    "            print(f\"title {ean} not found\")\n",
    "            \n",
    "        except IndexError:\n",
    "            \n",
    "            print(f\"title {ean} not found\")\n",
    "            \n",
    "        \n",
    "        try:\n",
    "            \n",
    "            price = browser.find_elements_by_xpath('//div[@class=\"price big length-6\"]')[0].text\n",
    "\n",
    "\n",
    "        except NoSuchElementException:\n",
    "            \n",
    "            print(f\"price {ean} not found\")\n",
    "        \n",
    "        \n",
    "        except IndexError:\n",
    "            \n",
    "            print(f\"price {ean} not found\")\n",
    "            \n",
    "            \n",
    "            \n",
    "        try:\n",
    "            \n",
    "            description = browser.find_elements_by_xpath('//div[@class=\"fg-box bpx0 bpy1 bsx3 bsy1 mpx0 mpy1 msx3 msy1 spx0 spy1 ssx3 ssy1 fg-box-size-x-3\"]')[0].text\n",
    "\n",
    "\n",
    "        except NoSuchElementException:\n",
    "            \n",
    "            print(f\" description {ean} not found\")\n",
    "        \n",
    "        \n",
    "        except IndexError:\n",
    "            \n",
    "            print(f\" description {ean} not found\")\n",
    "            \n",
    "            \n",
    "        try:\n",
    "            \n",
    "            description = browser.find_elements_by_xpath('//div[@class=\"fg-box bpx0 bpy1 bsx3 bsy1 mpx0 mpy1 msx3 msy1 spx0 spy1 ssx3 ssy1 fg-box-size-x-3\"]')[0].text\n",
    "\n",
    "\n",
    "        except NoSuchElementException:\n",
    "            \n",
    "            print(f\" description {ean} not found\")\n",
    "        \n",
    "        \n",
    "        except IndexError:\n",
    "            \n",
    "            print(f\" description {ean} not found\")    \n",
    "        \n",
    "        \n",
    "        \n",
    "        try:\n",
    "\n",
    "            action = ActionChains(browser)\n",
    "            click_view_more  = browser.find_element_by_xpath(\"(//a[@class='button button-toggle-collapsed js-toggle-collapsed'])\")\n",
    "            \n",
    "            if 'firefox' in browser.capabilities['browserName']:\n",
    "                scroll_shim(browser, click_view_more)\n",
    "            action.move_to_element((click_view_more)).click().perform()\n",
    "\n",
    "         \n",
    "        except NoSuchElementException:\n",
    "            \n",
    "            print(\"IMPOSILE TO SCROLL\")\n",
    "                        \n",
    "            \n",
    "        except IndexError:\n",
    "            \n",
    "            print(\"IMPOSILE TO SCROLL\")\n",
    "                    \n",
    "            \n",
    "            \n",
    "        \n",
    "        mm_info.loc[ean] = [title, price, main_image, description, more_features]\n",
    "\n",
    "    \n",
    "    browser.close()\n",
    "    \n",
    "    return mm_info, description\n",
    "\n",
    "    \n",
    "   "
   ]
  },
  {
   "cell_type": "code",
   "execution_count": 33,
   "metadata": {},
   "outputs": [
    {
     "name": "stdout",
     "output_type": "stream",
     "text": [
      "No covid-19 info\n"
     ]
    }
   ],
   "source": [
    "df, df1 =mm(ean_list)"
   ]
  },
  {
   "cell_type": "code",
   "execution_count": 35,
   "metadata": {},
   "outputs": [
    {
     "data": {
      "text/html": [
       "<div>\n",
       "<style scoped>\n",
       "    .dataframe tbody tr th:only-of-type {\n",
       "        vertical-align: middle;\n",
       "    }\n",
       "\n",
       "    .dataframe tbody tr th {\n",
       "        vertical-align: top;\n",
       "    }\n",
       "\n",
       "    .dataframe thead th {\n",
       "        text-align: right;\n",
       "    }\n",
       "</style>\n",
       "<table border=\"1\" class=\"dataframe\">\n",
       "  <thead>\n",
       "    <tr style=\"text-align: right;\">\n",
       "      <th></th>\n",
       "      <th>item_name.value</th>\n",
       "      <th>list_price.value_with_tax</th>\n",
       "      <th>main_image</th>\n",
       "      <th>description</th>\n",
       "      <th>more_features</th>\n",
       "    </tr>\n",
       "  </thead>\n",
       "  <tbody>\n",
       "    <tr>\n",
       "      <th>1447683</th>\n",
       "      <td>TV LED 43\" - Samsung 43RU7105, 4K UHD Real, HD...</td>\n",
       "      <td>3\\n2\\n2\\n,\\n1\\n5\\n3\\n7\\n9\\n,-\\n¡ENVÍO GRATIS!\\...</td>\n",
       "      <td>NaN</td>\n",
       "      <td>* El producto se servirá con las característic...</td>\n",
       "      <td>NaN</td>\n",
       "    </tr>\n",
       "  </tbody>\n",
       "</table>\n",
       "</div>"
      ],
      "text/plain": [
       "                                           item_name.value  \\\n",
       "1447683  TV LED 43\" - Samsung 43RU7105, 4K UHD Real, HD...   \n",
       "\n",
       "                                 list_price.value_with_tax main_image  \\\n",
       "1447683  3\\n2\\n2\\n,\\n1\\n5\\n3\\n7\\n9\\n,-\\n¡ENVÍO GRATIS!\\...        NaN   \n",
       "\n",
       "                                               description more_features  \n",
       "1447683  * El producto se servirá con las característic...           NaN  "
      ]
     },
     "execution_count": 35,
     "metadata": {},
     "output_type": "execute_result"
    }
   ],
   "source": [
    "df"
   ]
  },
  {
   "cell_type": "code",
   "execution_count": 37,
   "metadata": {},
   "outputs": [
    {
     "name": "stdout",
     "output_type": "stream",
     "text": [
      "No covid-19 info\n"
     ]
    }
   ],
   "source": [
    "ean='1447683'\n",
    "\n",
    "browser = webdriver.Firefox()\n",
    "browser.get('https://www.mediamarkt.es/')\n",
    "\n",
    "time.sleep(7)\n",
    "\n",
    "\n",
    "try: \n",
    "\n",
    "    action = ActionChains(browser)\n",
    "    click_close = browser.find_element_by_xpath(\"(//div[@class='dy-lb-close'])\")\n",
    "    action.move_to_element((click_close)).click().perform()\n",
    "\n",
    "except NoSuchElementException:\n",
    "\n",
    "\n",
    "    print('No covid-19 info')\n",
    "\n",
    "\n",
    "    time.sleep(3)\n",
    "\n",
    "\n",
    "title = price = main_image = descrption = more_features = float('nan')\n",
    "\n",
    "\n",
    "search = browser.find_element_by_xpath('//input[@class=\"ms-textfield ms-textfield--search ms-autosugestions__search-input\"]')\n",
    "search.clear()\n",
    "search.send_keys(ean)\n",
    "search.send_keys(Keys.ENTER)\n",
    "\n",
    "time.sleep(3)\n",
    "    \n",
    "price = browser.find_elements_by_xpath('//div[@class=\"price big length-6\"]')[0].text"
   ]
  },
  {
   "cell_type": "code",
   "execution_count": 40,
   "metadata": {},
   "outputs": [
    {
     "data": {
      "text/plain": [
       "''"
      ]
     },
     "execution_count": 40,
     "metadata": {},
     "output_type": "execute_result"
    }
   ],
   "source": [
    "price"
   ]
  },
  {
   "cell_type": "code",
   "execution_count": null,
   "metadata": {},
   "outputs": [],
   "source": []
  }
 ],
 "metadata": {
  "kernelspec": {
   "display_name": "Python [conda env:data_env]",
   "language": "python",
   "name": "conda-env-data_env-py"
  },
  "language_info": {
   "codemirror_mode": {
    "name": "ipython",
    "version": 3
   },
   "file_extension": ".py",
   "mimetype": "text/x-python",
   "name": "python",
   "nbconvert_exporter": "python",
   "pygments_lexer": "ipython3",
   "version": "3.7.5"
  }
 },
 "nbformat": 4,
 "nbformat_minor": 2
}
