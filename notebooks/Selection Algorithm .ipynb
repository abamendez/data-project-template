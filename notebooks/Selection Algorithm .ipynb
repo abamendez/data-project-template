{
 "cells": [
  {
   "cell_type": "code",
   "execution_count": 4,
   "metadata": {},
   "outputs": [],
   "source": [
    "import pandas as pd \n"
   ]
  },
  {
   "cell_type": "code",
   "execution_count": 5,
   "metadata": {},
   "outputs": [
    {
     "name": "stdout",
     "output_type": "stream",
     "text": [
      "carrefour\n"
     ]
    }
   ],
   "source": [
    "carrefour_info_maxdata=len(ean_list)*6\n",
    "ebay_info_maxdata=len(ean_list)*7\n",
    "amazon_info_maxdata=len(ean_list)*15\n",
    "eci_info_maxdata=len(ean_list)*5\n",
    "\n",
    "\n",
    "carrefour_info= pd.read_csv('/Users/Abacuc/Project_IH_Abacuc/csv/carrefour_info.csv')\n",
    "ebay_info= pd.read_csv('/Users/Abacuc/Project_IH_Abacuc/csv/ebay_info.csv')\n",
    "amazon_info = pd.read_csv('/Users/Abacuc/Project_IH_Abacuc/csv/amazon_info.csv')\n",
    "eci_info = pd.read_csv('/Users/Abacuc/Project_IH_Abacuc/csv/eci_info.csv')\n",
    "\n",
    "\n",
    "carrefour_info_nan=carrefour_info.isna().sum().sum()\n",
    "ebay_info_nan=ebay_info.isna().sum().sum()\n",
    "amazon_info_nan=amazon_info.isna().sum().sum()\n",
    "eci_info_nan=eci_info.isna().sum().sum()\n",
    "\n",
    "\n",
    "\n",
    "carrefour_metric = (carrefour_info_maxdata - carrefour_info_nan) / carrefour_info_maxdata*100\n",
    "ebay_metric=(ebay_info_maxdata-ebay_info_nan)/ebay_info_maxdata*100\n",
    "amazon_metric=(amazon_info_maxdata-amazon_info_nan)/amazon_info_maxdata*100\n",
    "eci_metric=(eci_info_maxdata-eci_info_nan)/eci_info_maxdata*100\n",
    "\n",
    "data = {\n",
    "    \n",
    "    'carrefour': carrefour_metric ,\n",
    "    'ebay': ebay_metric,\n",
    "    'amazon': amazon_metric,\n",
    "    'eci': eci_metric\n",
    "}\n",
    "\n",
    "print (max(data, key=data.get))"
   ]
  }
 ],
 "metadata": {
  "kernelspec": {
   "display_name": "Python [conda env:data_env]",
   "language": "python",
   "name": "conda-env-data_env-py"
  },
  "language_info": {
   "codemirror_mode": {
    "name": "ipython",
    "version": 3
   },
   "file_extension": ".py",
   "mimetype": "text/x-python",
   "name": "python",
   "nbconvert_exporter": "python",
   "pygments_lexer": "ipython3",
   "version": "3.7.5"
  }
 },
 "nbformat": 4,
 "nbformat_minor": 2
}
