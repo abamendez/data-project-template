{
 "cells": [
  {
   "cell_type": "code",
   "execution_count": 74,
   "metadata": {},
   "outputs": [],
   "source": [
    "import os\n",
    "import time\n",
    "import pandas as pd\n",
    "import urllib.request\n",
    "from itertools import chain\n",
    "from bs4 import BeautifulSoup\n",
    "from selenium import webdriver\n",
    "from selenium.webdriver.common.keys import Keys\n",
    "from selenium.webdriver.common.action_chains import ActionChains\n",
    "from selenium.webdriver.common.by import By\n",
    "from selenium.webdriver.common.by import By\n",
    "from selenium.webdriver.common.keys import Keys\n",
    "from selenium.webdriver.support.ui import WebDriverWait\n",
    "from selenium.webdriver.support import expected_conditions as EC\n",
    "from selenium.webdriver.firefox.firefox_binary import FirefoxBinary\n",
    "from selenium.webdriver.common.desired_capabilities import DesiredCapabilities\n",
    "from selenium.webdriver.firefox.firefox_binary import FirefoxBinary\n"
   ]
  },
  {
   "cell_type": "code",
   "execution_count": null,
   "metadata": {},
   "outputs": [],
   "source": [
    "\n",
    "'''Para libros: https://www.amazon.es/dp/8434417219'''\n",
    "ISBN10 = '8434417219' \n",
    "'''Para productos que llevan EAN, en informacion sobre el modelo '''\n",
    "ean_list = ['8487497376498','B00NBVIMDM']\n"
   ]
  },
  {
   "cell_type": "code",
   "execution_count": 85,
   "metadata": {},
   "outputs": [],
   "source": [
    "def bullet_points(all_bullets): \n",
    "    \n",
    "    if len(all_bullets.split(\"\\n\")) == 8: \n",
    "        bullet1, bullet2, bullet3, bullet4, bullet5, bullet6, bullet7, bullet8= [str(e) for e in all_bullets.split(\"\\n\")]\n",
    "    elif len(all_bullets.split(\"\\n\")) == 7: \n",
    "        bullet1, bullet2, bullet3, bullet4, bullet5, bullet6, bullet7= [str(e) for e in all_bullets.split(\"\\n\")] \n",
    "        bullet8 = float('nan')\n",
    "    elif len(all_bullets.split(\"\\n\")) == 6: \n",
    "        bullet1, bullet2, bullet3, bullet4, bullet5, bullet6 = [str(e) for e in all_bullets.split(\"\\n\")] \n",
    "        bullet7 = bullet8 = float('nan')\n",
    "    elif len(all_bullets.split(\"\\n\")) == 5: \n",
    "        bullet1, bullet2, bullet3, bullet4, bullet5 = [str(e) for e in all_bullets.split(\"\\n\")] \n",
    "        bullet6 = bullet7 = bullet8 =  float('nan')\n",
    "    elif len(all_bullets.split(\"\\n\")) == 4: \n",
    "        bullet1, bullet2, bullet3, bullet4 = [str(e) for e in all_bullets.split(\"\\n\")] \n",
    "        bullet5 = bullet6 = bullet7 = bullet8 = float('nan')\n",
    "    elif len(all_bullets.split(\"\\n\")) == 3: \n",
    "        bullet1, bullet2, bullet3, = [str(e) for e in all_bullets.split(\"\\n\")]\n",
    "        bullet4 = bullet5 = bullet6 = bullet7 = bullet8 =  float('nan')\n",
    "    elif len(all_bullets.split(\"\\n\")) == 2: \n",
    "        bullet1, bullet2 = [str(e) for e in all_bullets.split(\"\\n\")]\n",
    "        bullet3 = bullet4 = bullet5 = bullet6 = bullet7 = bullet8 =  float('nan')\n",
    "    elif len(all_bullets.split(\"\\n\")) == 1: \n",
    "        bullet1 = [str(e) for e in all_bullets.split(\"\\n\")]\n",
    "        bullet2 = bullet3 = bullet4 = bullet5 = bullet6 = bullet7 = bullet8 =  float('nan')\n",
    "    else : \n",
    "        bullet1 = bullet2 = bullet3 = bullet4 = bullet5 = bullet6 = bullet7 = bullet8 =  float('nan') \n",
    "        \n",
    "    return bullet1, bullet2, bullet3, bullet4, bullet5, bullet6, bullet7, bullet8  \n",
    "\n",
    "\n",
    "\n",
    "def amazon(ean_list):\n",
    "    \n",
    "    amazon_info = pd.DataFrame()\n",
    "    Detalles_tecnicos_t = pd.DataFrame()\n",
    "    Detalles_usuarios_amazon_t = pd.DataFrame()\n",
    "    \n",
    "    for ean in ean_list:\n",
    "        \n",
    "        os.environ['PATH'] = f'{os.environ[\"PATH\"]}:{os.getcwd()}/drivers'\n",
    "        os.environ['PATH']\n",
    "\n",
    "        browser = webdriver.Firefox()\n",
    "        browser.get('https://www.amazon.es')\n",
    "\n",
    "        search = browser.find_element_by_xpath('//input[@id=\"twotabsearchtextbox\"]')\n",
    "        search.send_keys(ean)\n",
    "        search.send_keys(Keys.ENTER)\n",
    "\n",
    "        time.sleep(3)\n",
    "\n",
    "        action = ActionChains(browser)\n",
    "        click_image  = browser.find_element_by_xpath(\"(//div[@class='sg-col-4-of-24 sg-col-4-of-12 sg-col-4-of-36 sg-col-4-of-28 sg-col-4-of-16 sg-col sg-col-4-of-20 sg-col-4-of-32'])[2]\")\n",
    "        action.move_to_element((click_image)).click().perform()\n",
    "\n",
    "        time.sleep(3)\n",
    "\n",
    "        title = browser.find_elements_by_xpath('//h1[@id=\"title\"]')[0].text\n",
    "        price = browser.find_elements_by_xpath('//span[@id=\"priceblock_ourprice\"]')[0].text\n",
    "        all_bullets = browser.find_elements_by_xpath('//div[@id=\"feature-bullets\"]')[0].text\n",
    "        bullet1, bullet2, bullet3, bullet4, bullet5, bullet6, bullet7, bullet8 = bullet_points(all_bullets)\n",
    "        main_image = browser.find_element_by_xpath('//img[@id=\"landingImage\"]').get_attribute('src')\n",
    "        \n",
    "        amazon_selenium = pd.DataFrame({'ean.value': [ean],\n",
    "                                     'item_name.value': [title], \n",
    "                                     'list_price.value_with_tax': [price],\n",
    "                                     'bullet_point.value': [bullet1], \n",
    "                                     'bullet_point#2.value': [bullet2],\n",
    "                                     'bullet_point#3.value': [bullet3], \n",
    "                                     'bullet_point#4.value': [bullet4], \n",
    "                                     'bullet_point#5.value': [bullet5],\n",
    "                                     'bullet_point#6.value': [bullet6],\n",
    "                                     'bullet_point#7.value': [bullet7],  \n",
    "                                     'main_image': [main_image]\n",
    "                                    })\n",
    "        \n",
    "        try:\n",
    "            \n",
    "            url = str(browser.current_url)\n",
    "            time.sleep(10)\n",
    "            lista = pd.read_html(url, match='.+', flavor = None, header = None, index_col =None, skiprows=None, attrs=None, parse_dates=False, thousands=', ', encoding=None, decimal='.', converters=None, na_values=None, keep_default_na=True, displayed_only=True)\n",
    "            time.sleep(10)\n",
    "\n",
    "            Detalles_tecnicos = lista[1]\n",
    "            Detalles_usuarios_amazon = lista[2]\n",
    "\n",
    "            Detalles_tecnicos.set_index(Detalles_tecnicos.columns[0])\n",
    "            Detalles_tecnicos_t = Detalles_tecnicos.T\n",
    "            Detalles_tecnicos_t.columns = Detalles_tecnicos_t.iloc[0]\n",
    "            Detalles_tecnicos_t = Detalles_tecnicos_t.drop(Detalles_tecnicos_t.index[0]).reset_index(drop=True)\n",
    "\n",
    "            Detalles_usuarios_amazon.set_index(Detalles_usuarios_amazon.columns[0])\n",
    "            Detalles_usuarios_amazon_t = Detalles_usuarios_amazon.T\n",
    "            Detalles_usuarios_amazon_t.columns = Detalles_usuarios_amazon_t.iloc[0]\n",
    "            Detalles_usuarios_amazon_t = Detalles_usuarios_amazon_t.drop(Detalles_usuarios_amazon_t.index[0]).reset_index(drop=True)\n",
    "\n",
    "        except urllib.error.HTTPError:\n",
    "        \n",
    "            browser.close()\n",
    "\n",
    "            amazon_data = pd.concat([amazon_selenium, Detalles_tecnicos_t,Detalles_usuarios_amazon_t], axis=1, sort=False)\n",
    "            amazon_data = amazon_data.set_index('ean.value')\n",
    "\n",
    "            amazon_info = pd.concat([amazon_info, amazon_data], axis=1, sort=False)\n",
    "\n",
    "        '''\n",
    "        amazon_info= pd.concat([amazon_info, amazon_data])\n",
    "        '''\n",
    "    return amazon_info\n"
   ]
  },
  {
   "cell_type": "code",
   "execution_count": 89,
   "metadata": {},
   "outputs": [
    {
     "ename": "KeyboardInterrupt",
     "evalue": "",
     "output_type": "error",
     "traceback": [
      "\u001b[0;31m---------------------------------------------------------------------------\u001b[0m",
      "\u001b[0;31mKeyboardInterrupt\u001b[0m                         Traceback (most recent call last)",
      "\u001b[0;32m<ipython-input-89-8917b2e87ecb>\u001b[0m in \u001b[0;36m<module>\u001b[0;34m\u001b[0m\n\u001b[0;32m----> 1\u001b[0;31m \u001b[0mdf\u001b[0m \u001b[0;34m=\u001b[0m \u001b[0mamazon\u001b[0m\u001b[0;34m(\u001b[0m\u001b[0mean_list\u001b[0m\u001b[0;34m)\u001b[0m\u001b[0;34m\u001b[0m\u001b[0;34m\u001b[0m\u001b[0m\n\u001b[0m",
      "\u001b[0;32m<ipython-input-85-7132cd22ee18>\u001b[0m in \u001b[0;36mamazon\u001b[0;34m(ean_list)\u001b[0m\n\u001b[1;32m     55\u001b[0m         \u001b[0maction\u001b[0m\u001b[0;34m.\u001b[0m\u001b[0mmove_to_element\u001b[0m\u001b[0;34m(\u001b[0m\u001b[0;34m(\u001b[0m\u001b[0mclick_image\u001b[0m\u001b[0;34m)\u001b[0m\u001b[0;34m)\u001b[0m\u001b[0;34m.\u001b[0m\u001b[0mclick\u001b[0m\u001b[0;34m(\u001b[0m\u001b[0;34m)\u001b[0m\u001b[0;34m.\u001b[0m\u001b[0mperform\u001b[0m\u001b[0;34m(\u001b[0m\u001b[0;34m)\u001b[0m\u001b[0;34m\u001b[0m\u001b[0;34m\u001b[0m\u001b[0m\n\u001b[1;32m     56\u001b[0m \u001b[0;34m\u001b[0m\u001b[0m\n\u001b[0;32m---> 57\u001b[0;31m         \u001b[0mtime\u001b[0m\u001b[0;34m.\u001b[0m\u001b[0msleep\u001b[0m\u001b[0;34m(\u001b[0m\u001b[0;36m3\u001b[0m\u001b[0;34m)\u001b[0m\u001b[0;34m\u001b[0m\u001b[0;34m\u001b[0m\u001b[0m\n\u001b[0m\u001b[1;32m     58\u001b[0m \u001b[0;34m\u001b[0m\u001b[0m\n\u001b[1;32m     59\u001b[0m         \u001b[0mtitle\u001b[0m \u001b[0;34m=\u001b[0m \u001b[0mbrowser\u001b[0m\u001b[0;34m.\u001b[0m\u001b[0mfind_elements_by_xpath\u001b[0m\u001b[0;34m(\u001b[0m\u001b[0;34m'//h1[@id=\"title\"]'\u001b[0m\u001b[0;34m)\u001b[0m\u001b[0;34m[\u001b[0m\u001b[0;36m0\u001b[0m\u001b[0;34m]\u001b[0m\u001b[0;34m.\u001b[0m\u001b[0mtext\u001b[0m\u001b[0;34m\u001b[0m\u001b[0;34m\u001b[0m\u001b[0m\n",
      "\u001b[0;31mKeyboardInterrupt\u001b[0m: "
     ]
    }
   ],
   "source": [
    "df = amazon(ean_list)"
   ]
  },
  {
   "cell_type": "code",
   "execution_count": 90,
   "metadata": {},
   "outputs": [
    {
     "data": {
      "text/html": [
       "<div>\n",
       "<style scoped>\n",
       "    .dataframe tbody tr th:only-of-type {\n",
       "        vertical-align: middle;\n",
       "    }\n",
       "\n",
       "    .dataframe tbody tr th {\n",
       "        vertical-align: top;\n",
       "    }\n",
       "\n",
       "    .dataframe thead th {\n",
       "        text-align: right;\n",
       "    }\n",
       "</style>\n",
       "<table border=\"1\" class=\"dataframe\">\n",
       "  <thead>\n",
       "    <tr style=\"text-align: right;\">\n",
       "      <th></th>\n",
       "    </tr>\n",
       "  </thead>\n",
       "  <tbody>\n",
       "  </tbody>\n",
       "</table>\n",
       "</div>"
      ],
      "text/plain": [
       "Empty DataFrame\n",
       "Columns: []\n",
       "Index: []"
      ]
     },
     "execution_count": 90,
     "metadata": {},
     "output_type": "execute_result"
    }
   ],
   "source": [
    "df"
   ]
  },
  {
   "cell_type": "code",
   "execution_count": null,
   "metadata": {},
   "outputs": [],
   "source": []
  },
  {
   "cell_type": "code",
   "execution_count": null,
   "metadata": {},
   "outputs": [],
   "source": []
  }
 ],
 "metadata": {
  "kernelspec": {
   "display_name": "Python [conda env:data_env]",
   "language": "python",
   "name": "conda-env-data_env-py"
  },
  "language_info": {
   "codemirror_mode": {
    "name": "ipython",
    "version": 3
   },
   "file_extension": ".py",
   "mimetype": "text/x-python",
   "name": "python",
   "nbconvert_exporter": "python",
   "pygments_lexer": "ipython3",
   "version": "3.7.5"
  }
 },
 "nbformat": 4,
 "nbformat_minor": 2
}
